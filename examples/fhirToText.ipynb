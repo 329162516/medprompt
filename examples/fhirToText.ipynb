{
 "cells": [
  {
   "cell_type": "code",
   "execution_count": 9,
   "metadata": {},
   "outputs": [],
   "source": [
    "from medprompt import MedPrompter, get_time_diff_from_today\n",
    "prompt = MedPrompter()\n",
    "prompt.set_template(\n",
    "    template_name=\"observation_v1.jinja\")\n",
    "import json\n"
   ]
  },
  {
   "cell_type": "code",
   "execution_count": 10,
   "metadata": {},
   "outputs": [],
   "source": [
    "fhir_obs = '''\n",
    "{\n",
    "    \"resourceType\": \"Observation\",\n",
    "    \"id\": \"f001\",\n",
    "    \"identifier\": [\n",
    "        {\n",
    "            \"use\": \"official\",\n",
    "            \"system\": \"http://www.bmc.nl/zorgportal/identifiers/observations\",\n",
    "            \"value\": \"6323\"\n",
    "        }\n",
    "    ],\n",
    "    \"status\": \"final\",\n",
    "    \"code\": {\n",
    "        \"coding\": [\n",
    "            {\n",
    "                \"system\": \"http://loinc.org\",\n",
    "                \"code\": \"15074-8\",\n",
    "                \"display\": \"Glucose [Moles/volume] in Blood\"\n",
    "            }\n",
    "        ]\n",
    "    },\n",
    "    \"subject\": {\n",
    "        \"reference\": \"Patient/f001\",\n",
    "        \"display\": \"P. van de Heuvel\"\n",
    "    },\n",
    "    \"effectiveDateTime\": \"2023-07-02T09:30:10+01:00\",\n",
    "    \"issued\": \"2013-04-03T15:30:10+01:00\",\n",
    "    \"performer\": [\n",
    "        {\n",
    "            \"reference\": \"Practitioner/f005\",\n",
    "            \"display\": \"A. Langeveld\"\n",
    "        }\n",
    "    ],\n",
    "    \"valueQuantity\": {\n",
    "        \"value\": 6.3,\n",
    "        \"unit\": \"mmol/l\",\n",
    "        \"system\": \"http://unitsofmeasure.org\",\n",
    "        \"code\": \"mmol/L\"\n",
    "    },\n",
    "    \"interpretation\": [\n",
    "        {\n",
    "            \"coding\": [\n",
    "                {\n",
    "                    \"system\": \"http://terminology.hl7.org/CodeSystem/v3-ObservationInterpretation\",\n",
    "                    \"code\": \"H\",\n",
    "                    \"display\": \"High\"\n",
    "                }\n",
    "            ]\n",
    "        }\n",
    "    ],\n",
    "    \"referenceRange\": [\n",
    "        {\n",
    "            \"low\": {\n",
    "                \"value\": 3.1,\n",
    "                \"unit\": \"mmol/l\",\n",
    "                \"system\": \"http://unitsofmeasure.org\",\n",
    "                \"code\": \"mmol/L\"\n",
    "            },\n",
    "            \"high\": {\n",
    "                \"value\": 6.2,\n",
    "                \"unit\": \"mmol/l\",\n",
    "                \"system\": \"http://unitsofmeasure.org\",\n",
    "                \"code\": \"mmol/L\"\n",
    "            }\n",
    "        }\n",
    "    ]\n",
    "}\n",
    "'''"
   ]
  },
  {
   "cell_type": "code",
   "execution_count": 11,
   "metadata": {},
   "outputs": [
    {
     "name": "stdout",
     "output_type": "stream",
     "text": [
      "\n",
      "The Glucose [Moles/volume] in Blood before 67 days was\n",
      "\n",
      "\n",
      "6.3 mmol/l\n",
      "\n",
      "\n"
     ]
    }
   ],
   "source": [
    "input_object = json.loads(fhir_obs)\n",
    "input_object[\"time_diff\"] = get_time_diff_from_today\n",
    "prompt = prompt.generate_prompt(input_object)\n",
    "print (prompt)"
   ]
  }
 ],
 "metadata": {
  "kernelspec": {
   "display_name": ".venv",
   "language": "python",
   "name": "python3"
  },
  "language_info": {
   "codemirror_mode": {
    "name": "ipython",
    "version": 3
   },
   "file_extension": ".py",
   "mimetype": "text/x-python",
   "name": "python",
   "nbconvert_exporter": "python",
   "pygments_lexer": "ipython3",
   "version": "3.11.4"
  },
  "orig_nbformat": 4
 },
 "nbformat": 4,
 "nbformat_minor": 2
}
