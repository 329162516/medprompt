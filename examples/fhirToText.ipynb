{
 "cells": [
  {
   "cell_type": "code",
   "execution_count": 25,
   "metadata": {},
   "outputs": [
    {
     "name": "stdout",
     "output_type": "stream",
     "text": [
      "Collecting git+https://github.com/dermatologist/medprompt.git\n",
      "  Cloning https://github.com/dermatologist/medprompt.git to /tmp/pip-req-build-mszpk4d9\n",
      "  Running command git clone --filter=blob:none --quiet https://github.com/dermatologist/medprompt.git /tmp/pip-req-build-mszpk4d9\n",
      "  Resolved https://github.com/dermatologist/medprompt.git to commit 796cb36fa12b9bd3650b4da1371d9aed01ec06ce\n",
      "  Installing build dependencies ... \u001b[?25ldone\n",
      "\u001b[?25h  Getting requirements to build wheel ... \u001b[?25ldone\n",
      "\u001b[?25h  Installing backend dependencies ... \u001b[?25ldone\n",
      "\u001b[?25h  Preparing metadata (pyproject.toml) ... \u001b[?25ldone\n",
      "\u001b[?25hRequirement already satisfied: Jinja2 in /home/M267492/repos/medprompt/.venv/lib/python3.11/site-packages (from medprompt==0.0.post1.dev44+g796cb36) (3.1.2)\n",
      "Requirement already satisfied: MarkupSafe>=2.0 in /home/M267492/repos/medprompt/.venv/lib/python3.11/site-packages (from Jinja2->medprompt==0.0.post1.dev44+g796cb36) (2.1.3)\n",
      "\n",
      "\u001b[1m[\u001b[0m\u001b[34;49mnotice\u001b[0m\u001b[1;39;49m]\u001b[0m\u001b[39;49m A new release of pip is available: \u001b[0m\u001b[31;49m23.1.2\u001b[0m\u001b[39;49m -> \u001b[0m\u001b[32;49m23.2.1\u001b[0m\n",
      "\u001b[1m[\u001b[0m\u001b[34;49mnotice\u001b[0m\u001b[1;39;49m]\u001b[0m\u001b[39;49m To update, run: \u001b[0m\u001b[32;49mpip install --upgrade pip\u001b[0m\n"
     ]
    }
   ],
   "source": [
    "!pip install git+https://github.com/dermatologist/medprompt.git\n"
   ]
  },
  {
   "cell_type": "code",
   "execution_count": 26,
   "metadata": {},
   "outputs": [],
   "source": [
    "from medprompt import MedPrompter, get_time_diff_from_today\n",
    "prompt = MedPrompter()\n",
    "prompt.set_template(\n",
    "    template_name=\"observation_v1.jinja\")\n",
    "import json"
   ]
  },
  {
   "cell_type": "code",
   "execution_count": 27,
   "metadata": {},
   "outputs": [],
   "source": [
    "fhir_obs = '''\n",
    "{\n",
    "    \"resourceType\": \"Observation\",\n",
    "    \"id\": \"f001\",\n",
    "    \"identifier\": [\n",
    "        {\n",
    "            \"use\": \"official\",\n",
    "            \"system\": \"http://www.bmc.nl/zorgportal/identifiers/observations\",\n",
    "            \"value\": \"6323\"\n",
    "        }\n",
    "    ],\n",
    "    \"status\": \"final\",\n",
    "    \"code\": {\n",
    "        \"coding\": [\n",
    "            {\n",
    "                \"system\": \"http://loinc.org\",\n",
    "                \"code\": \"15074-8\",\n",
    "                \"display\": \"Glucose [Moles/volume] in Blood\"\n",
    "            }\n",
    "        ]\n",
    "    },\n",
    "    \"subject\": {\n",
    "        \"reference\": \"Patient/f001\",\n",
    "        \"display\": \"P. van de Heuvel\"\n",
    "    },\n",
    "    \"effectiveDateTime\": \"2023-07-02T09:30:10+01:00\",\n",
    "    \"issued\": \"2013-04-03T15:30:10+01:00\",\n",
    "    \"performer\": [\n",
    "        {\n",
    "            \"reference\": \"Practitioner/f005\",\n",
    "            \"display\": \"A. Langeveld\"\n",
    "        }\n",
    "    ],\n",
    "    \"valueQuantity\": {\n",
    "        \"value\": 6.3,\n",
    "        \"unit\": \"mmol/l\",\n",
    "        \"system\": \"http://unitsofmeasure.org\",\n",
    "        \"code\": \"mmol/L\"\n",
    "    },\n",
    "    \"interpretation\": [\n",
    "        {\n",
    "            \"coding\": [\n",
    "                {\n",
    "                    \"system\": \"http://terminology.hl7.org/CodeSystem/v3-ObservationInterpretation\",\n",
    "                    \"code\": \"H\",\n",
    "                    \"display\": \"High\"\n",
    "                }\n",
    "            ]\n",
    "        }\n",
    "    ],\n",
    "    \"referenceRange\": [\n",
    "        {\n",
    "            \"low\": {\n",
    "                \"value\": 3.1,\n",
    "                \"unit\": \"mmol/l\",\n",
    "                \"system\": \"http://unitsofmeasure.org\",\n",
    "                \"code\": \"mmol/L\"\n",
    "            },\n",
    "            \"high\": {\n",
    "                \"value\": 6.2,\n",
    "                \"unit\": \"mmol/l\",\n",
    "                \"system\": \"http://unitsofmeasure.org\",\n",
    "                \"code\": \"mmol/L\"\n",
    "            }\n",
    "        }\n",
    "    ]\n",
    "}\n",
    "'''"
   ]
  },
  {
   "cell_type": "code",
   "execution_count": 28,
   "metadata": {},
   "outputs": [
    {
     "name": "stdout",
     "output_type": "stream",
     "text": [
      "\n",
      "The Glucose [Moles/volume] in Blood before 67 days was\n",
      "\n",
      "High.\n",
      "\n",
      "\n",
      "\n",
      "6.3 mmol/l\n",
      "\n",
      "\n"
     ]
    }
   ],
   "source": [
    "input_object = json.loads(fhir_obs)\n",
    "input_object[\"time_diff\"] = get_time_diff_from_today\n",
    "prompt = prompt.generate_prompt(input_object)\n",
    "print (prompt)"
   ]
  }
 ],
 "metadata": {
  "kernelspec": {
   "display_name": ".venv",
   "language": "python",
   "name": "python3"
  },
  "language_info": {
   "codemirror_mode": {
    "name": "ipython",
    "version": 3
   },
   "file_extension": ".py",
   "mimetype": "text/x-python",
   "name": "python",
   "nbconvert_exporter": "python",
   "pygments_lexer": "ipython3",
   "version": "3.11.4"
  },
  "orig_nbformat": 4
 },
 "nbformat": 4,
 "nbformat_minor": 2
}
