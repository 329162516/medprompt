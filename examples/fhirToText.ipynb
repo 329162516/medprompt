{
 "cells": [
  {
   "cell_type": "code",
   "execution_count": 64,
   "metadata": {},
   "outputs": [],
   "source": [
    "#!pip install git+https://github.com/dermatologist/medprompt.git\n"
   ]
  },
  {
   "cell_type": "code",
   "execution_count": 65,
   "metadata": {},
   "outputs": [],
   "source": [
    "from medprompt import MedPrompter, get_time_diff_from_today\n",
    "prompt = MedPrompter()\n",
    "prompt.set_template(template_path=\"../src/medprompt/templates/\",\n",
    "    template_name=\"observation_v1.jinja\")\n",
    "import json"
   ]
  },
  {
   "cell_type": "code",
   "execution_count": 66,
   "metadata": {},
   "outputs": [],
   "source": [
    "fhir_obs = '''\n",
    "{\n",
    "    \"resourceType\": \"Observation\",\n",
    "    \"id\": \"f001\",\n",
    "    \"identifier\": [\n",
    "        {\n",
    "            \"use\": \"official\",\n",
    "            \"system\": \"http://www.bmc.nl/zorgportal/identifiers/observations\",\n",
    "            \"value\": \"6323\"\n",
    "        }\n",
    "    ],\n",
    "    \"status\": \"final\",\n",
    "    \"code\": {\n",
    "        \"coding\": [\n",
    "            {\n",
    "                \"system\": \"http://loinc.org\",\n",
    "                \"code\": \"15074-8\",\n",
    "                \"display\": \"Glucose [Moles/volume] in Blood\"\n",
    "            }\n",
    "        ]\n",
    "    },\n",
    "    \"subject\": {\n",
    "        \"reference\": \"Patient/f001\",\n",
    "        \"display\": \"P. van de Heuvel\"\n",
    "    },\n",
    "    \"effectiveDateTime\": \"2023-07-02T09:30:10+01:00\",\n",
    "    \"issued\": \"2013-04-03T15:30:10+01:00\",\n",
    "    \"performer\": [\n",
    "        {\n",
    "            \"reference\": \"Practitioner/f005\",\n",
    "            \"display\": \"A. Langeveld\"\n",
    "        }\n",
    "    ],\n",
    "    \"valueQuantity\": {\n",
    "        \"value\": 6.3,\n",
    "        \"unit\": \"mmol/l\",\n",
    "        \"system\": \"http://unitsofmeasure.org\",\n",
    "        \"code\": \"mmol/L\"\n",
    "    },\n",
    "    \"interpretation\": [\n",
    "        {\n",
    "            \"coding\": [\n",
    "                {\n",
    "                    \"system\": \"http://terminology.hl7.org/CodeSystem/v3-ObservationInterpretation\",\n",
    "                    \"code\": \"H\",\n",
    "                    \"display\": \"High\"\n",
    "                }\n",
    "            ]\n",
    "        }\n",
    "    ],\n",
    "    \"referenceRange\": [\n",
    "        {\n",
    "            \"low\": {\n",
    "                \"value\": 3.1,\n",
    "                \"unit\": \"mmol/l\",\n",
    "                \"system\": \"http://unitsofmeasure.org\",\n",
    "                \"code\": \"mmol/L\"\n",
    "            },\n",
    "            \"high\": {\n",
    "                \"value\": 6.2,\n",
    "                \"unit\": \"mmol/l\",\n",
    "                \"system\": \"http://unitsofmeasure.org\",\n",
    "                \"code\": \"mmol/L\"\n",
    "            }\n",
    "        }\n",
    "    ]\n",
    "}\n",
    "'''"
   ]
  },
  {
   "cell_type": "code",
   "execution_count": 67,
   "metadata": {},
   "outputs": [
    {
     "ename": "TemplateNotFound",
     "evalue": "observation_v1.jinja",
     "output_type": "error",
     "traceback": [
      "\u001b[0;31m---------------------------------------------------------------------------\u001b[0m",
      "\u001b[0;31mTemplateNotFound\u001b[0m                          Traceback (most recent call last)",
      "\u001b[1;32m/home/beapen/repos/medprompt/examples/fhirToText.ipynb Cell 4\u001b[0m line \u001b[0;36m3\n\u001b[1;32m      <a href='vscode-notebook-cell://wsl%2Bubuntu/home/beapen/repos/medprompt/examples/fhirToText.ipynb#W3sdnNjb2RlLXJlbW90ZQ%3D%3D?line=0'>1</a>\u001b[0m input_object \u001b[39m=\u001b[39m json\u001b[39m.\u001b[39mloads(fhir_obs)\n\u001b[1;32m      <a href='vscode-notebook-cell://wsl%2Bubuntu/home/beapen/repos/medprompt/examples/fhirToText.ipynb#W3sdnNjb2RlLXJlbW90ZQ%3D%3D?line=1'>2</a>\u001b[0m input_object[\u001b[39m\"\u001b[39m\u001b[39mtime_diff\u001b[39m\u001b[39m\"\u001b[39m] \u001b[39m=\u001b[39m get_time_diff_from_today\n\u001b[0;32m----> <a href='vscode-notebook-cell://wsl%2Bubuntu/home/beapen/repos/medprompt/examples/fhirToText.ipynb#W3sdnNjb2RlLXJlbW90ZQ%3D%3D?line=2'>3</a>\u001b[0m output \u001b[39m=\u001b[39m prompt\u001b[39m.\u001b[39;49mgenerate_prompt(input_object)\u001b[39m.\u001b[39mreplace(\u001b[39m\"\u001b[39m\u001b[39m\\n\u001b[39;00m\u001b[39m\"\u001b[39m, \u001b[39m\"\u001b[39m\u001b[39m \u001b[39m\u001b[39m\"\u001b[39m)\n\u001b[1;32m      <a href='vscode-notebook-cell://wsl%2Bubuntu/home/beapen/repos/medprompt/examples/fhirToText.ipynb#W3sdnNjb2RlLXJlbW90ZQ%3D%3D?line=3'>4</a>\u001b[0m \u001b[39mprint\u001b[39m (output)\n",
      "File \u001b[0;32m~/venv/default/lib/python3.8/site-packages/medprompt/med_prompt.py:48\u001b[0m, in \u001b[0;36mgenerate_prompt\u001b[0;34m(self, variables)\u001b[0m\n",
      "File \u001b[0;32m~/venv/default/lib/python3.8/site-packages/medprompt/med_prompt.py:58\u001b[0m, in \u001b[0;36mprocess\u001b[0;34m(self)\u001b[0m\n",
      "File \u001b[0;32m~/venv/default/lib/python3.8/site-packages/jinja2/environment.py:1010\u001b[0m, in \u001b[0;36mEnvironment.get_template\u001b[0;34m(self, name, parent, globals)\u001b[0m\n\u001b[1;32m   1007\u001b[0m \u001b[39mif\u001b[39;00m parent \u001b[39mis\u001b[39;00m \u001b[39mnot\u001b[39;00m \u001b[39mNone\u001b[39;00m:\n\u001b[1;32m   1008\u001b[0m     name \u001b[39m=\u001b[39m \u001b[39mself\u001b[39m\u001b[39m.\u001b[39mjoin_path(name, parent)\n\u001b[0;32m-> 1010\u001b[0m \u001b[39mreturn\u001b[39;00m \u001b[39mself\u001b[39;49m\u001b[39m.\u001b[39;49m_load_template(name, \u001b[39mglobals\u001b[39;49m)\n",
      "File \u001b[0;32m~/venv/default/lib/python3.8/site-packages/jinja2/environment.py:969\u001b[0m, in \u001b[0;36mEnvironment._load_template\u001b[0;34m(self, name, globals)\u001b[0m\n\u001b[1;32m    965\u001b[0m             template\u001b[39m.\u001b[39mglobals\u001b[39m.\u001b[39mupdate(\u001b[39mglobals\u001b[39m)\n\u001b[1;32m    967\u001b[0m         \u001b[39mreturn\u001b[39;00m template\n\u001b[0;32m--> 969\u001b[0m template \u001b[39m=\u001b[39m \u001b[39mself\u001b[39;49m\u001b[39m.\u001b[39;49mloader\u001b[39m.\u001b[39;49mload(\u001b[39mself\u001b[39;49m, name, \u001b[39mself\u001b[39;49m\u001b[39m.\u001b[39;49mmake_globals(\u001b[39mglobals\u001b[39;49m))\n\u001b[1;32m    971\u001b[0m \u001b[39mif\u001b[39;00m \u001b[39mself\u001b[39m\u001b[39m.\u001b[39mcache \u001b[39mis\u001b[39;00m \u001b[39mnot\u001b[39;00m \u001b[39mNone\u001b[39;00m:\n\u001b[1;32m    972\u001b[0m     \u001b[39mself\u001b[39m\u001b[39m.\u001b[39mcache[cache_key] \u001b[39m=\u001b[39m template\n",
      "File \u001b[0;32m~/venv/default/lib/python3.8/site-packages/jinja2/loaders.py:126\u001b[0m, in \u001b[0;36mBaseLoader.load\u001b[0;34m(self, environment, name, globals)\u001b[0m\n\u001b[1;32m    122\u001b[0m     \u001b[39mglobals\u001b[39m \u001b[39m=\u001b[39m {}\n\u001b[1;32m    124\u001b[0m \u001b[39m# first we try to get the source for this template together\u001b[39;00m\n\u001b[1;32m    125\u001b[0m \u001b[39m# with the filename and the uptodate function.\u001b[39;00m\n\u001b[0;32m--> 126\u001b[0m source, filename, uptodate \u001b[39m=\u001b[39m \u001b[39mself\u001b[39;49m\u001b[39m.\u001b[39;49mget_source(environment, name)\n\u001b[1;32m    128\u001b[0m \u001b[39m# try to load the code from the bytecode cache if there is a\u001b[39;00m\n\u001b[1;32m    129\u001b[0m \u001b[39m# bytecode cache configured.\u001b[39;00m\n\u001b[1;32m    130\u001b[0m bcc \u001b[39m=\u001b[39m environment\u001b[39m.\u001b[39mbytecode_cache\n",
      "File \u001b[0;32m~/venv/default/lib/python3.8/site-packages/jinja2/loaders.py:218\u001b[0m, in \u001b[0;36mFileSystemLoader.get_source\u001b[0;34m(self, environment, template)\u001b[0m\n\u001b[1;32m    216\u001b[0m     \u001b[39m# Use normpath to convert Windows altsep to sep.\u001b[39;00m\n\u001b[1;32m    217\u001b[0m     \u001b[39mreturn\u001b[39;00m contents, os\u001b[39m.\u001b[39mpath\u001b[39m.\u001b[39mnormpath(filename), uptodate\n\u001b[0;32m--> 218\u001b[0m \u001b[39mraise\u001b[39;00m TemplateNotFound(template)\n",
      "\u001b[0;31mTemplateNotFound\u001b[0m: observation_v1.jinja"
     ]
    }
   ],
   "source": [
    "input_object = json.loads(fhir_obs)\n",
    "input_object[\"time_diff\"] = get_time_diff_from_today\n",
    "output = prompt.generate_prompt(input_object).replace(\"\\n\", \" \")\n",
    "print (output)"
   ]
  }
 ],
 "metadata": {
  "kernelspec": {
   "display_name": ".venv",
   "language": "python",
   "name": "python3"
  },
  "language_info": {
   "codemirror_mode": {
    "name": "ipython",
    "version": 3
   },
   "file_extension": ".py",
   "mimetype": "text/x-python",
   "name": "python",
   "nbconvert_exporter": "python",
   "pygments_lexer": "ipython3",
   "version": "3.8.10"
  },
  "orig_nbformat": 4
 },
 "nbformat": 4,
 "nbformat_minor": 2
}
