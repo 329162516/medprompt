{
 "cells": [
  {
   "cell_type": "code",
   "execution_count": 1,
   "metadata": {},
   "outputs": [],
   "source": [
    "#!pip install git+https://github.com/dermatologist/medprompt.git\n"
   ]
  },
  {
   "cell_type": "code",
   "execution_count": 2,
   "metadata": {},
   "outputs": [],
   "source": [
    "from medprompt import MedPrompter, get_time_diff_from_today\n",
    "prompt = MedPrompter()\n",
    "prompt.set_template(template_path=\"../src/medprompt/templates/\",\n",
    "    template_name=\"observation_v1.jinja\")\n",
    "import json"
   ]
  },
  {
   "cell_type": "code",
   "execution_count": 3,
   "metadata": {},
   "outputs": [],
   "source": [
    "fhir_obs = '''\n",
    "{\n",
    "    \"resourceType\": \"Observation\",\n",
    "    \"id\": \"f001\",\n",
    "    \"identifier\": [\n",
    "        {\n",
    "            \"use\": \"official\",\n",
    "            \"system\": \"http://www.bmc.nl/zorgportal/identifiers/observations\",\n",
    "            \"value\": \"6323\"\n",
    "        }\n",
    "    ],\n",
    "    \"status\": \"final\",\n",
    "    \"code\": {\n",
    "        \"coding\": [\n",
    "            {\n",
    "                \"system\": \"http://loinc.org\",\n",
    "                \"code\": \"15074-8\",\n",
    "                \"display\": \"Glucose [Moles/volume] in Blood\"\n",
    "            }\n",
    "        ]\n",
    "    },\n",
    "    \"subject\": {\n",
    "        \"reference\": \"Patient/f001\",\n",
    "        \"display\": \"P. van de Heuvel\"\n",
    "    },\n",
    "    \"effectiveDateTime\": \"2023-07-02T09:30:10+01:00\",\n",
    "    \"issued\": \"2013-04-03T15:30:10+01:00\",\n",
    "    \"performer\": [\n",
    "        {\n",
    "            \"reference\": \"Practitioner/f005\",\n",
    "            \"display\": \"A. Langeveld\"\n",
    "        }\n",
    "    ],\n",
    "    \"valueQuantity\": {\n",
    "        \"value\": 6.3,\n",
    "        \"unit\": \"mmol/l\",\n",
    "        \"system\": \"http://unitsofmeasure.org\",\n",
    "        \"code\": \"mmol/L\"\n",
    "    },\n",
    "    \"interpretation\": [\n",
    "        {\n",
    "            \"coding\": [\n",
    "                {\n",
    "                    \"system\": \"http://terminology.hl7.org/CodeSystem/v3-ObservationInterpretation\",\n",
    "                    \"code\": \"H\",\n",
    "                    \"display\": \"High\"\n",
    "                }\n",
    "            ]\n",
    "        }\n",
    "    ],\n",
    "    \"referenceRange\": [\n",
    "        {\n",
    "            \"low\": {\n",
    "                \"value\": 3.1,\n",
    "                \"unit\": \"mmol/l\",\n",
    "                \"system\": \"http://unitsofmeasure.org\",\n",
    "                \"code\": \"mmol/L\"\n",
    "            },\n",
    "            \"high\": {\n",
    "                \"value\": 6.2,\n",
    "                \"unit\": \"mmol/l\",\n",
    "                \"system\": \"http://unitsofmeasure.org\",\n",
    "                \"code\": \"mmol/L\"\n",
    "            }\n",
    "        }\n",
    "    ]\n",
    "}\n",
    "'''"
   ]
  },
  {
   "cell_type": "code",
   "execution_count": 4,
   "metadata": {},
   "outputs": [
    {
     "name": "stdout",
     "output_type": "stream",
     "text": [
      "The Glucose [Moles/volume] in Blood before 69 days was High with value 6.3 mmol/l .\n"
     ]
    }
   ],
   "source": [
    "input_object = json.loads(fhir_obs)\n",
    "input_object[\"time_diff\"] = get_time_diff_from_today\n",
    "output = prompt.generate_prompt(input_object).replace(\"\\n\", \" \")\n",
    "print (output)"
   ]
  }
 ],
 "metadata": {
  "kernelspec": {
   "display_name": ".venv",
   "language": "python",
   "name": "python3"
  },
  "language_info": {
   "codemirror_mode": {
    "name": "ipython",
    "version": 3
   },
   "file_extension": ".py",
   "mimetype": "text/x-python",
   "name": "python",
   "nbconvert_exporter": "python",
   "pygments_lexer": "ipython3",
   "version": "3.8.10"
  },
  "orig_nbformat": 4
 },
 "nbformat": 4,
 "nbformat_minor": 2
}
